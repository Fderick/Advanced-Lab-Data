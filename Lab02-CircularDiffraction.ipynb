{
 "cells": [
  {
   "cell_type": "code",
   "execution_count": 10,
   "id": "c1306573-6c09-4b24-b6ef-8304b88c10df",
   "metadata": {},
   "outputs": [
    {
     "name": "stdout",
     "output_type": "stream",
     "text": [
      "[0.0005, 0.0035, 0.006, 0.009250000000000001, 0.0125, 0.0155, 0.018750000000000003, 0.02225, 0.025500000000000002] [0.0005, 0.0035, 0.006, 0.00875, 0.01125, 0.014249999999999999, 0.0175]\n"
     ]
    }
   ],
   "source": [
    "import numpy as np\n",
    "import matplotlib.pyplot as plt\n",
    "import PhysicsFunctions as phy\n",
    "\n",
    "\n",
    "#------- INITIAL DATA ------------\n",
    "pinhole_diam_mm = [0.2, 0.4] #mm\n",
    "pinhole_diam = np.array(pinhole_diam_mm) *10**(-3)\n",
    "\n",
    "pinhole_to_target_cm = 109.55 #cm\n",
    "pinhole_to_target = pinhole_to_target_cm *10**(-2)\n",
    "\n",
    "# 1 and 2 correspond to pinhole diam 0.2mm but the two separate measurements we did.\n",
    "\n",
    "central_diam1 = (7+7.5)/2 #Averaged over two measurements \n",
    "central_radius1 = central_diam1/2 #This is the radius of the bright spot at the center of the pattern.\n",
    "fringe_dist1_mm = [ 0,1,3,4,5.5,6.5,8.5,10,12,13,15,16,18,19.5,21.5,23,25,26] #mm [lower,upper,lower2,upper2,...] #9 fringes\n",
    "fringe_dist1 = np.array(fringe_dist1_mm)*10**(-3)\n",
    "mean_fringe_dist1 = [(fringe_dist1[i]+fringe_dist1[i+1])/2 for i in range(0,len(fringe_dist1),2)]\n",
    "\n",
    "fringe_dist2_mm = [0,1,3,4,5.5,6.5,8,9.5,10.5,12,13.5,15,17,18]\n",
    "fringe_dist2 = np.array(fringe_dist2_mm) *10**(-3)\n",
    "mean_fringe_dist2 = [(fringe_dist2[i]+fringe_dist2[i+1])/2 for i in range(0,len(fringe_dist2),2)]\n",
    "\n",
    "\n",
    "\n",
    "\n",
    "\n",
    "# Pinhole diam 0.4mm\n",
    "\n",
    "central_diam2 = 3.5 #mm\n",
    "central_radius2 = central_diam2/2\n",
    "fringe_dist3_mm = [0,1,2,3,4,5,6,6.7,7.7,8.7,9.7,10.7] # 6 fringes\n",
    "fringe_dist3 = np.array(fringe_dist3_mm) *10**(-3)\n",
    "mean_fringe_dist3 = [(fringe_dist3[i]+fringe_dist3[i+1])/2 for i in range(0,len(fringe_dist3),2)]\n",
    "\n",
    "print(mean_fringe_dist1,mean_fringe_dist2, mean_fringe_dist3)\n",
    "\n",
    "#3-Zone Fresnel \n",
    "\n",
    "#central_diam3 = INPUT DATA HERE\n",
    "#central_radius3 = central_diam3/2\n",
    "#fringe_dist4_mm = [] # 6 fringes\n",
    "#fringe_dist4 = np.array(fringe_dist3_mm) *10**(-3)\n",
    "#mean_fringe_dist4 = [(fringe_dist4[i]+fringe_dist4[i+1])/2 for i in range(0,len(fringe_dist4),2)]\n",
    "\n"
   ]
  },
  {
   "cell_type": "code",
   "execution_count": null,
   "id": "997ac71a-8c1c-41e5-a734-7eade57a69b0",
   "metadata": {},
   "outputs": [],
   "source": [
    "#------- Calculate Theta ---------\n",
    "#Due to small angle approximations we can say that sin(theta) ~= tan(theta) and we can use the fringe distances\n",
    "#and the pinhole-to-target distance to obtain theta\n"
   ]
  }
 ],
 "metadata": {
  "kernelspec": {
   "display_name": "Python 3 (ipykernel)",
   "language": "python",
   "name": "python3"
  },
  "language_info": {
   "codemirror_mode": {
    "name": "ipython",
    "version": 3
   },
   "file_extension": ".py",
   "mimetype": "text/x-python",
   "name": "python",
   "nbconvert_exporter": "python",
   "pygments_lexer": "ipython3",
   "version": "3.9.12"
  }
 },
 "nbformat": 4,
 "nbformat_minor": 5
}
