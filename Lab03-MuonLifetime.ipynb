{
 "cells": [
  {
   "cell_type": "code",
   "execution_count": 13,
   "metadata": {},
   "outputs": [],
   "source": [
    "import matplotlib.pyplot as plt\n",
    "import numpy as np\n",
    "import PhysicsFunctions as phy\n",
    "\n",
    "file = open('muon_lifetime_last.Spe', 'r+')\n",
    "\n",
    "data = []\n",
    "\n",
    "for line in file:\n",
    "    if line[0] == \" \":\n",
    "        string = line\n",
    "        string.strip()\n",
    "        data.append(int(string))\n",
    "\n",
    "file.close()\n",
    "\n",
    "file = open('pulser_calibration.Spe', 'r+')\n",
    "\n",
    "timing_data = []\n",
    "\n",
    "for line in file:\n",
    "    if line[0] == \" \":\n",
    "        string = line\n",
    "        string.strip()\n",
    "        timing_data.append(int(string))\n",
    "\n",
    "file.close()"
   ]
  },
  {
   "cell_type": "code",
   "execution_count": 14,
   "metadata": {
    "tags": []
   },
   "outputs": [
    {
     "data": {
      "image/png": "[encoded data removed]",
      "text/plain": [
       "<Figure size 432x288 with 1 Axes>"
      ]
     },
     "metadata": {
      "needs_background": "light"
     },
     "output_type": "display_data"
    },
    {
     "data": {
      "image/png": "[encoded data removed]",
      "text/plain": [
       "<Figure size 432x288 with 1 Axes>"
      ]
     },
     "metadata": {
      "needs_background": "light"
     },
     "output_type": "display_data"
    },
    {
     "name": "stdout",
     "output_type": "stream",
     "text": [
      "[10, 20, 30, 40, 50, 61, 71, 81, 91, 102, 154, 205, 257]\n"
     ]
    }
   ],
   "source": [
    "vals = range(1,len(data)+1)\n",
    "\n",
    "x = []\n",
    "unique_x = []\n",
    "\n",
    "for i in range(len(data)):\n",
    "    for j in range(data[i]):\n",
    "        x.append(vals[i])\n",
    "        if vals[i] in unique_x:\n",
    "            pass\n",
    "        else:\n",
    "            unique_x.append(vals[i])\n",
    "    \n",
    "    \n",
    "time_vals = range(1,len(timing_data)+1)\n",
    "\n",
    "t = []\n",
    "unique_t = []\n",
    "\n",
    "for i in range(len(timing_data)):\n",
    "    for j in range(timing_data[i]):\n",
    "        if j>50 or range(timing_data[i]<100000):\n",
    "            break\n",
    "        t.append(time_vals[i])\n",
    "        if time_vals[i] in unique_t:\n",
    "            pass\n",
    "        else:\n",
    "            unique_t.append(time_vals[i])\n",
    "\n",
    "y,binEdges,_ = plt.hist(x,20,visible=True)\n",
    "plt.show()\n",
    "yt, binEdgesT,_ = plt.hist(t,100,visible = True)\n",
    "plt.show()\n",
    "\n",
    "binCenters = (binEdges[1:]+binEdges[:-1])/2\n",
    "ax = binCenters\n",
    "\n",
    "\n",
    "binCenters = (binEdgesT[1:]+binEdgesT[:-1])/2\n",
    "aT = binCenters\n",
    "print(unique_t)\n"
   ]
  },
  {
   "cell_type": "code",
   "execution_count": 15,
   "metadata": {},
   "outputs": [
    {
     "name": "stdout",
     "output_type": "stream",
     "text": [
      "[[Fit Statistics]]\n",
      "    # fitting method   = leastsq\n",
      "    # function evals   = 7\n",
      "    # data points      = 13\n",
      "    # variables        = 2\n",
      "    chi-square         = 2.08904110\n",
      "    reduced chi-square = 0.18991283\n",
      "    Akaike info crit   = -19.7671746\n",
      "    Bayesian info crit = -18.6372759\n",
      "    R-squared          = 0.99996817\n",
      "[[Variables]]\n",
      "    slope:  51.5410959 +/- 0.08767203 (0.17%) (init = 1)\n",
      "    b:     -1.03424658 +/- 0.19664289 (19.01%) (init = 0)\n",
      "[[Correlations]] (unreported correlations are < 0.100)\n",
      "    C(slope, b) = -0.7888\n"
     ]
    },
    {
     "data": {
      "image/png": "[encoded data removed]",
      "text/plain": [
       "<Figure size 432x288 with 1 Axes>"
      ]
     },
     "metadata": {
      "needs_background": "light"
     },
     "output_type": "display_data"
    }
   ],
   "source": [
    "## TIME CALIBRATION\n",
    "\n",
    "#Get fit to calibrate\n",
    "actual_times = np.array([0.2,0.4,0.6,0.8,1,1.2,1.4,1.6,1.8,2,3,4,5]) #microseconds\n",
    "\n",
    "plt.scatter(actual_times,unique_t)\n",
    "output_t,result_t = phy.fitLinear(actual_times,unique_t)\n",
    "plt.plot(actual_times,output_t)\n",
    "plot_params = result_t.params.valuesdict()"
   ]
  },
  {
   "cell_type": "code",
   "execution_count": 30,
   "metadata": {},
   "outputs": [
    {
     "name": "stdout",
     "output_type": "stream",
     "text": [
      "[[Fit Statistics]]\n",
      "    # fitting method   = leastsq\n",
      "    # function evals   = 20\n",
      "    # data points      = 20\n",
      "    # variables        = 2\n",
      "    chi-square         = 3851.39663\n",
      "    reduced chi-square = 213.966479\n",
      "    Akaike info crit   = 109.209177\n",
      "    Bayesian info crit = 111.200642\n",
      "    R-squared          = 0.99922668\n",
      "[[Variables]]\n",
      "    amplitude:  2603.92220 +/- 23.5983753 (0.91%) (init = 1144.471)\n",
      "    decay:      2.18185882 +/- 0.02578476 (1.18%) (init = 3.415967)\n",
      "[[Correlations]] (unreported correlations are < 0.100)\n",
      "    C(amplitude, decay) = -0.7756\n"
     ]
    },
    {
     "data": {
      "text/plain": [
       "<matplotlib.legend.Legend at 0x7fa8ef8827c0>"
      ]
     },
     "execution_count": 30,
     "metadata": {},
     "output_type": "execute_result"
    },
    {
     "data": {
      "image/png": "[encoded data removed]",
      "text/plain": [
       "<Figure size 432x288 with 1 Axes>"
      ]
     },
     "metadata": {
      "needs_background": "light"
     },
     "output_type": "display_data"
    }
   ],
   "source": [
    "#Use resulting equation to appropriate modify x-values\n",
    "measured_times = (ax-plot_params['b'])/plot_params['slope']\n",
    "measured_counts = (x-plot_params['b'])/plot_params['slope']\n",
    "output,_,fit_x = phy.fitExponential(measured_times,y,step = 0.1)\n",
    "count_uncertainty = np.sqrt(y)\n",
    "\n",
    "#plt.hist(measured_counts,20)\n",
    "plt.title(\"Measured Decay Times\")\n",
    "plt.plot(fit_x,output, label=\"Decay Fit\",color='r')\n",
    "plt.xlabel(r\"Time Measured [$\\mu$s]\")\n",
    "plt.ylabel(r\"Events\")\n",
    "#plot error bars\n",
    "plt.errorbar(measured_times,y, xerr = ((binEdges[1]-binEdges[0])/2-plot_params['b'])/plot_params['slope'],yerr = count_uncertainty, ls = \"None\", color = \"b\")\n",
    "#plot scatter plot\n",
    "plt.scatter(measured_times,y, s = 10, marker = \"o\", color = \"b\",label =\"Counts\")\n",
    "plt.xlim([0,19.4])\n",
    "plt.legend(loc=\"upper right\")"
   ]
  },
  {
   "cell_type": "code",
   "execution_count": 20,
   "metadata": {},
   "outputs": [
    {
     "data": {
      "text/plain": [
       "(0.0, 19.4)"
      ]
     },
     "execution_count": 20,
     "metadata": {},
     "output_type": "execute_result"
    },
    {
     "data": {
      "image/png": "[encoded data removed]",
      "text/plain": [
       "<Figure size 432x288 with 1 Axes>"
      ]
     },
     "metadata": {
      "needs_background": "light"
     },
     "output_type": "display_data"
    }
   ],
   "source": [
    "\n",
    "#plt.hist(measured_counts,20)\n",
    "plt.title(\"Measured Decay Times\")\n",
    "plt.hist(measured_counts,20)\n",
    "plt.xlabel(r\"Time Measured [$\\mu$s]\")\n",
    "plt.ylabel(r\"Events\")\n",
    "plt.xlim([0,19.4])\n"
   ]
  },
  {
   "cell_type": "code",
   "execution_count": 27,
   "metadata": {},
   "outputs": [
    {
     "data": {
      "text/plain": [
       "12.47"
      ]
     },
     "execution_count": 27,
     "metadata": {},
     "output_type": "execute_result"
    }
   ],
   "source": [
    "#((aT[1]-aT[0])-plot_params['b'])/plot_params['slope']\n",
    "\n",
    "binEdgesT[1]\n",
    "   "
   ]
  },
  {
   "cell_type": "code",
   "execution_count": 1,
   "metadata": {},
   "outputs": [
    {
     "name": "stdout",
     "output_type": "stream",
     "text": [
      "2.18185882 +/- 0.02578476\n",
      "9.874996878801689 +/- 1.8312374893812517\n"
     ]
    }
   ],
   "source": [
    "mu_p = 2.1969803 #mu s \n",
    "del_mu_p = 2.3 * 10**-6\n",
    "mu_m = 2.043  #mu s\n",
    "del_mu_m = 0.003\n",
    "mu_obs = 2.18185882\n",
    "del_mu_obs = 0.02578476\n",
    "print(mu_obs, \"+/-\",del_mu_obs)\n",
    "    \n",
    "rho = (-mu_p/mu_m)*((mu_m-mu_obs)/(mu_p-mu_obs))\n",
    "del_rho = rho - (-(mu_p+del_mu_p)/mu_m)*(mu_m-(mu_obs-del_mu_obs))/((mu_p-del_mu_p)-(mu_obs+del_mu_p))\n",
    "print(rho, \"+/-\",del_rho)"
   ]
  },
  {
   "cell_type": "code",
   "execution_count": null,
   "metadata": {},
   "outputs": [],
   "source": []
  }
 ],
 "metadata": {
  "kernelspec": {
   "display_name": "Python 3 (ipykernel)",
   "language": "python",
   "name": "python3"
  },
  "language_info": {
   "codemirror_mode": {
    "name": "ipython",
    "version": 3
   },
   "file_extension": ".py",
   "mimetype": "text/x-python",
   "name": "python",
   "nbconvert_exporter": "python",
   "pygments_lexer": "ipython3",
   "version": "3.11.1"
  }
 },
 "nbformat": 4,
 "nbformat_minor": 4
}
