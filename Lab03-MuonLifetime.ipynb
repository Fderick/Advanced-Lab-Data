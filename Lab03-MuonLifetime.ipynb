{
 "cells": [
  {
   "cell_type": "code",
   "execution_count": 37,
   "metadata": {},
   "outputs": [],
   "source": [
    "import matplotlib.pyplot as plt\n",
    "import numpy as np\n",
    "import PhysicsFunctions as phy\n",
    "\n",
    "file = open('muon_lifetime_last.Spe', 'r+')\n",
    "\n",
    "data = []\n",
    "\n",
    "for line in file:\n",
    "    if line[0] == \" \":\n",
    "        string = line\n",
    "        string.strip()\n",
    "        data.append(int(string))\n",
    "\n",
    "file.close()\n",
    "\n",
    "file = open('pulser_calibration.Spe', 'r+')\n",
    "\n",
    "timing_data = []\n",
    "\n",
    "for line in file:\n",
    "    if line[0] == \" \":\n",
    "        string = line\n",
    "        string.strip()\n",
    "        timing_data.append(int(string))\n",
    "\n",
    "file.close()"
   ]
  },
  {
   "cell_type": "code",
   "execution_count": 41,
   "metadata": {
    "tags": []
   },
   "outputs": [
    {
     "data": {
      "image/png": "[encoded data removed]",
      "text/plain": [
       "<Figure size 432x288 with 1 Axes>"
      ]
     },
     "metadata": {
      "needs_background": "light"
     },
     "output_type": "display_data"
    },
    {
     "data": {
      "image/png": "[encoded data removed]",
      "text/plain": [
       "<Figure size 432x288 with 1 Axes>"
      ]
     },
     "metadata": {
      "needs_background": "light"
     },
     "output_type": "display_data"
    },
    {
     "name": "stdout",
     "output_type": "stream",
     "text": [
      "[10, 20, 30, 40, 50, 61, 71, 81, 91, 102, 154, 205, 257]\n"
     ]
    }
   ],
   "source": [
    "vals = range(1,len(data)+1)\n",
    "\n",
    "x = []\n",
    "unique_x = []\n",
    "\n",
    "for i in range(len(data)):\n",
    "    for j in range(data[i]):\n",
    "        x.append(vals[i])\n",
    "        if vals[i] in unique_x:\n",
    "            pass\n",
    "        else:\n",
    "            unique_x.append(vals[i])\n",
    "    \n",
    "    \n",
    "time_vals = range(1,len(timing_data)+1)\n",
    "\n",
    "t = []\n",
    "unique_t = []\n",
    "\n",
    "for i in range(len(timing_data)):\n",
    "    for j in range(timing_data[i]):\n",
    "        if j>50 or range(timing_data[i]<100000):\n",
    "            break\n",
    "        t.append(time_vals[i])\n",
    "        if time_vals[i] in unique_t:\n",
    "            pass\n",
    "        else:\n",
    "            unique_t.append(time_vals[i])\n",
    "\n",
    "y,binEdges,_ = plt.hist(x,30,visible=True)\n",
    "plt.show()\n",
    "yt, binEdgesT,_ = plt.hist(t,100,visible = True)\n",
    "plt.show()\n",
    "\n",
    "binCenters = (binEdges[1:]+binEdges[:-1])/2\n",
    "ax = binCenters\n",
    "\n",
    "\n",
    "binCenters = (binEdgesT[1:]+binEdgesT[:-1])/2\n",
    "aT = binCenters\n",
    "print(unique_t)\n",
    "\n"
   ]
  },
  {
   "cell_type": "code",
   "execution_count": 42,
   "metadata": {},
   "outputs": [
    {
     "name": "stdout",
     "output_type": "stream",
     "text": [
      "[[Fit Statistics]]\n",
      "    # fitting method   = leastsq\n",
      "    # function evals   = 7\n",
      "    # data points      = 13\n",
      "    # variables        = 2\n",
      "    chi-square         = 2.08904110\n",
      "    reduced chi-square = 0.18991283\n",
      "    Akaike info crit   = -19.7671746\n",
      "    Bayesian info crit = -18.6372759\n",
      "    R-squared          = 0.99996817\n",
      "[[Variables]]\n",
      "    slope:  10.3082192 +/- 0.01753441 (0.17%) (init = 1)\n",
      "    b:     -1.03424658 +/- 0.19664289 (19.01%) (init = 0)\n",
      "[[Correlations]] (unreported correlations are < 0.100)\n",
      "    C(slope, b) = -0.7888\n"
     ]
    },
    {
     "data": {
      "image/png": "[encoded data removed]",
      "text/plain": [
       "<Figure size 432x288 with 1 Axes>"
      ]
     },
     "metadata": {
      "needs_background": "light"
     },
     "output_type": "display_data"
    }
   ],
   "source": [
    "## TIME CALIBRATION\n",
    "\n",
    "#Get fit to calibrate\n",
    "actual_times = np.array([1,2,3,4,5,6,7,8,9,10,15,20,25]) #microseconds\n",
    "\n",
    "plt.scatter(actual_times,unique_t)\n",
    "output_t,result_t = phy.fitLinear(actual_times,unique_t)\n",
    "plt.plot(actual_times,output_t)\n",
    "plot_params = result_t.params.valuesdict()"
   ]
  },
  {
   "cell_type": "code",
   "execution_count": 45,
   "metadata": {},
   "outputs": [
    {
     "name": "stdout",
     "output_type": "stream",
     "text": [
      "[[Fit Statistics]]\n",
      "    # fitting method   = leastsq\n",
      "    # function evals   = 20\n",
      "    # data points      = 30\n",
      "    # variables        = 2\n",
      "    chi-square         = 4905.90064\n",
      "    reduced chi-square = 175.210737\n",
      "    Akaike info crit   = 156.909898\n",
      "    Bayesian info crit = 159.712292\n",
      "    R-squared          = 0.99855488\n",
      "[[Variables]]\n",
      "    amplitude:  1749.36490 +/- 16.9633770 (0.97%) (init = 779.4266)\n",
      "    decay:      10.7503870 +/- 0.13722043 (1.28%) (init = 16.76666)\n",
      "[[Correlations]] (unreported correlations are < 0.100)\n",
      "    C(amplitude, decay) = -0.7613\n"
     ]
    },
    {
     "data": {
      "text/plain": [
       "<matplotlib.collections.PathCollection at 0x7ff2cb848340>"
      ]
     },
     "execution_count": 45,
     "metadata": {},
     "output_type": "execute_result"
    },
    {
     "data": {
      "image/png": "[encoded data removed]",
      "text/plain": [
       "<Figure size 432x288 with 1 Axes>"
      ]
     },
     "metadata": {
      "needs_background": "light"
     },
     "output_type": "display_data"
    }
   ],
   "source": [
    "#Use resulting equation to appropriate modify x-values\n",
    "measured_times = (ax-plot_params['b'])/plot_params['slope']\n",
    "output,_ = phy.fitExponential(measured_times,y)\n",
    "\n",
    "\n",
    "plt.plot(measured_times,output)\n",
    "\n",
    "plt.scatter(measured_times,y)\n"
   ]
  },
  {
   "cell_type": "code",
   "execution_count": null,
   "metadata": {},
   "outputs": [],
   "source": []
  },
  {
   "cell_type": "code",
   "execution_count": null,
   "metadata": {},
   "outputs": [],
   "source": []
  }
 ],
 "metadata": {
  "kernelspec": {
   "display_name": "Python 3 (ipykernel)",
   "language": "python",
   "name": "python3"
  },
  "language_info": {
   "codemirror_mode": {
    "name": "ipython",
    "version": 3
   },
   "file_extension": ".py",
   "mimetype": "text/x-python",
   "name": "python",
   "nbconvert_exporter": "python",
   "pygments_lexer": "ipython3",
   "version": "3.9.12"
  }
 },
 "nbformat": 4,
 "nbformat_minor": 4
}
