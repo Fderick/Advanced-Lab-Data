{
 "cells": [
  {
   "cell_type": "code",
   "execution_count": 52,
   "id": "0fde2cc8-000c-412e-af0f-0a5a6c882c3c",
   "metadata": {},
   "outputs": [],
   "source": [
    "import matplotlib.pyplot as plt\n",
    "import numpy as np\n",
    "import PhysicsFunctions as phy"
   ]
  },
  {
   "cell_type": "code",
   "execution_count": 53,
   "id": "915686a2-c7ce-426b-ab4a-212388b4bd9e",
   "metadata": {},
   "outputs": [],
   "source": [
    "# Constants\n",
    "b = 8.2 * 10**(-3) #Pa*m\n",
    "\n",
    "p =101625.52 #PA assumed not actually measured  #atmospheric pressure\n",
    "distance = .00763 #m \n",
    "distance_unc = 0.005 * 10**(-3)\n",
    "oil_density = 886 #kg/m^3\n",
    "air_viscosity = 1.8370 *10**(-5) #Nsm^-2 *10^-5\n",
    "g = 9.81 #m/s^2\n",
    "\n",
    "temp = 22.899283 #C"
   ]
  },
  {
   "cell_type": "code",
   "execution_count": 54,
   "id": "d24968cb-6954-474c-b696-11973f1262bd",
   "metadata": {},
   "outputs": [],
   "source": [
    "\n",
    "## Measured Data\n",
    "Voltage = 499 #V\n",
    "voltage_unc = 0.5 #V\n",
    "time_unc = 0.005\n",
    "\n",
    "t_rise = np.array([[4.42,4.24,4.24,4.29,4.2,4.66,4.07,4.22,4.25,4.19,4.57,4.25,4.26,4.28,4.39,4.32,4.53,4.63,4.1],\n",
    "                  [12.13,14.05,11.69,12.66,12.48,12.58,13.4,13.59,12.92,11.67,11.32],\n",
    "                  [1.49,1.52,1.72,1.37,1.44,2.01,2.09,1.98,1.88,1.81],\n",
    "                  [1.09,1.06,1.06,1.01,1.17,1.18,1.23,1.24,1.26,1.19],\n",
    "                  [4.73,4.08,4.45]],dtype = object)\n",
    "          \n",
    "t_fall = np.array([[20,20.35,15.07,22.2,18.25,20.05,16.82,16.56,18.59,16.98,17.56,16.49,16.64,19.47,17.62,16.32,18.22,18.2,16.61],\n",
    "          [15.13,15.82,17.19,13.98,18.04,14.99,16.53,17.11,17.26,15.31,18.51],\n",
    "          [17.43,17.58,18.96,16.23,17.77,16.78,15.55,17.02,17.11,16.01],\n",
    "          [16.72,16.14,18.52,17.85,16.54,18.69,20.34,17.17,17.06,16.3],\n",
    "          [18.11,16.03,18.04]],dtype = object)\n",
    "d_reticle = 0.0005 #m\n"
   ]
  },
  {
   "cell_type": "code",
   "execution_count": 80,
   "id": "0ffcf150-bdb2-4b05-b5c5-743b9a6dd1d2",
   "metadata": {},
   "outputs": [],
   "source": [
    "# Drop Velocity Calculations\n",
    "v_rise = []\n",
    "for l in t_rise: \n",
    "    v_rise.append(d_reticle/np.array(l))\n",
    "\n",
    "v_fall = []\n",
    "for l in t_fall: \n",
    "    v_fall.append(d_reticle/np.array(l))\n",
    "    \n",
    "    \n",
    "# ------------ UNCERTAINTY\n",
    "v_rise_unc = []\n",
    "for i in range(0,len(v_rise),1):\n",
    "    v_rise_unc.append(v_rise[i] - d_reticle/(np.array(t_rise[i])+time_unc))\n",
    "\n",
    "v_fall_unc = []\n",
    "for i in range(0,len(v_fall),1): \n",
    "    v_fall_unc.append(v_fall[i] - d_reticle/(np.array(t_rise[i])+time_unc))\n",
    "    \n",
    "    \n",
    "\n",
    "#print(v_rise,v_fall)\n",
    "    \n",
    "\n"
   ]
  },
  {
   "cell_type": "code",
   "execution_count": 104,
   "id": "9e602865-7b6f-4475-8db0-e1efa8a382b4",
   "metadata": {},
   "outputs": [],
   "source": [
    "\n",
    "#Drop Radius Calculation\n",
    "\n",
    "drop_radius_uncorrected = []\n",
    "\n",
    "for i in range(0,len(v_fall),1):\n",
    "    drop_radius_uncorrected.append(np.sqrt(9*air_viscosity*v_fall[i] / (2*oil_density*g)))\n",
    "\n",
    "\n",
    "drop_radius_uncorrected_unc = []\n",
    "\n",
    "for i in range(0,len(v_fall),1):\n",
    "    drop_radius_uncorrected_unc.append(drop_radius_uncorrected[i] - np.sqrt(9*air_viscosity*(v_fall[i]-v_fall_unc[i]) / (2*oil_density*g)))\n",
    "\n",
    "\n",
    "\n",
    "#get corrected viscosity\n",
    "\n",
    "viscosity = []\n",
    "for i in range(0,len(drop_radius_uncorrected),1):\n",
    "    viscosity.append(air_viscosity*(1/(1+b/(p*drop_radius_uncorrected[i]))))\n",
    "\n",
    "viscosity_unc = []\n",
    "for i in range(0,len(drop_radius_uncorrected),1):\n",
    "    viscosity_unc.append(viscosity[i] - air_viscosity*(1/(1+b/(p*(drop_radius_uncorrected[i]+ drop_radius_uncorrected_unc[i])))))\n",
    "    \n",
    "#get new drop radius\n",
    "drop_radius =[]\n",
    "for i in range(0,len(v_fall),1):\n",
    "    drop_radius.append(np.sqrt(9*viscosity[i]*v_fall[i] / (2*oil_density*g)))\n",
    "    \n",
    "drop_radius_unc =[]\n",
    "for i in range(0,len(v_fall),1):\n",
    "    drop_radius_unc.append(drop_radius[i] - np.sqrt(np.abs(9*(viscosity[i]-viscosity_unc[i])*(v_fall[i]-v_fall_unc[i]) / (2*oil_density*g))))\n",
    "                   \n"
   ]
  },
  {
   "cell_type": "code",
   "execution_count": 106,
   "id": "3e397739-9427-4a28-9326-80f148fa9373",
   "metadata": {},
   "outputs": [
    {
     "name": "stdout",
     "output_type": "stream",
     "text": [
      "$ 3.1641755473521804e-19 \\pm 5.126874982796171e-19 $\n",
      "$ 1.6447282387370168e-19 \\pm 4.5456952385838774e-20 $\n",
      "$ 7.332210570931292e-19 \\pm 1.015009820304562e-18 $\n",
      "$ 1.0384513046349205e-18 \\pm 1.8564213276553762e-18 $\n",
      "$ 3.1891539794396863e-19 \\pm 2.581948672036107e-19 $\n",
      "\n",
      "$ 3.112769696616874e-19 \\pm 4.4500122731845465e-18 $\n",
      "$ 1.620281942145976e-19 \\pm 1.173642156772115e-19 $\n",
      "$ 7.218141369442769e-19 \\pm 4.991495692349997e-17 $\n",
      "$ 1.0219244984481665e-18 \\pm 1.3430233946193704e-16 $\n",
      "$ 3.1388384661956774e-19 \\pm 4.0535464052798345e-18 $\n"
     ]
    }
   ],
   "source": [
    "\n",
    "\n",
    "\n",
    "# Calculations \n",
    "\n",
    "E_field = Voltage/distance\n",
    "E_field_unc = E_field - (Voltage+voltage_unc)/(distance-distance_unc)\n",
    "\n",
    "#Charge of Droplet\n",
    "q = []\n",
    "for i in range(0,len(viscosity),1):\n",
    "    q.append(4*np.pi*(drop_radius[i]**3) * oil_density * g * (v_fall[i] + v_rise[i]) / (3* E_field *v_fall[i]))\n",
    "\n",
    "q_unc = []\n",
    "for i in range(0,len(viscosity),1):\n",
    "    q_unc.append(q[i] - 4*np.pi*((drop_radius[i]+drop_radius_unc[i])**3) * oil_density * g * (v_fall[i]+v_fall_unc[i] + v_rise[i]+v_fall_unc[i]) / (3* (E_field-E_field_unc) *(v_fall[i]+v_fall_unc[i])))\n",
    "\n",
    "for i in range(0,len(q),1):\n",
    "    print(\"$\",q[i].mean(), \"\\pm\", q_unc[i].mean(),\"$\")\n",
    "    \n",
    "#Alternate Calculation\n",
    "q_alt = []\n",
    "for i in range(0,len(v_fall),1):\n",
    "    q_alt.append((4*np.pi/3)*(np.sqrt((b/(2*p))**2+9*air_viscosity*v_fall[i]/(2*oil_density*g))-(b/(2*p)))**3 *(oil_density*g*distance*(v_fall[i] + v_rise[i])/(Voltage*v_fall[i])))\n",
    "\n",
    " \n",
    "q_alt_unc = []\n",
    "for i in range(0,len(v_fall),1):\n",
    "    q_alt_unc.append(q[i] - (4*np.pi/3)*(np.sqrt((b/(2*p))**2+9*air_viscosity*(v_fall[i]-v_fall_unc[i])/(2*oil_density*g))-(b/(2*p)))**3 *(oil_density*g*(distance-distance_unc)*(v_fall[i]-v_fall_unc[i] + v_rise[i]-v_rise_unc[i])/(Voltage*v_fall[i]-v_fall_unc[i])))\n",
    "\n",
    "    \n",
    "print()\n",
    "for i in range(0,len(q_alt),1):\n",
    "    print(\"$\",q_alt[i].mean(), \"\\pm\", np.abs(q_alt_unc[i].mean()),\"$\")\n",
    "#print(q)\n",
    "\n",
    "#print(q_unc)\n",
    "\n",
    "#print(q_alt)\n",
    "\n"
   ]
  },
  {
   "cell_type": "code",
   "execution_count": 113,
   "id": "ef513cb6-b33c-4de4-ac0f-01a57fe8f934",
   "metadata": {},
   "outputs": [
    {
     "name": "stdout",
     "output_type": "stream",
     "text": [
      "$ 1.9238287960459315 \\pm 2.858760214739707 $\n",
      "$ 1.0 \\pm 0.43306817351759963 $\n",
      "$ 4.458007346284563 \\pm 5.800307463172468 $\n",
      "$ 6.313816958796457 \\pm 10.210215257288343 $\n",
      "$ 1.939015762195845 \\pm 1.6497736555149523 $\n"
     ]
    }
   ],
   "source": [
    "ratio = []\n",
    "for arr in q:\n",
    "    ratio.append(arr.mean()/q[1].mean())\n",
    "    \n",
    "ratio_unc = []\n",
    "for i in range(0,len(q),1):\n",
    "    ratio_unc.append(ratio[i] - (q[i].mean()- q_unc[i].mean())/(q_unc[1].mean()+q[1].mean()))\n",
    "    \n",
    "#ratio.sort()\n",
    "for i in range(0,len(ratio),1):\n",
    "    print(\"$\",ratio[i], \"\\pm\", np.abs(ratio_unc[i]),\"$\")\n",
    "\n"
   ]
  },
  {
   "cell_type": "markdown",
   "id": "52de69de-29e9-422b-870f-f13a132207c1",
   "metadata": {},
   "source": [
    "# Accepted Value\n",
    "1.60 * 10^-19"
   ]
  },
  {
   "cell_type": "code",
   "execution_count": null,
   "id": "62b1f5f4-d41d-4f26-966b-b8e3bd3f8c65",
   "metadata": {},
   "outputs": [],
   "source": []
  }
 ],
 "metadata": {
  "kernelspec": {
   "display_name": "Python 3 (ipykernel)",
   "language": "python",
   "name": "python3"
  },
  "language_info": {
   "codemirror_mode": {
    "name": "ipython",
    "version": 3
   },
   "file_extension": ".py",
   "mimetype": "text/x-python",
   "name": "python",
   "nbconvert_exporter": "python",
   "pygments_lexer": "ipython3",
   "version": "3.9.12"
  }
 },
 "nbformat": 4,
 "nbformat_minor": 5
}
